{
  "nbformat": 4,
  "nbformat_minor": 0,
  "metadata": {
    "colab": {
      "name": "006 PyMongo Cosmos.ipynb",
      "provenance": [],
      "collapsed_sections": [],
      "include_colab_link": true
    },
    "kernelspec": {
      "name": "python3",
      "display_name": "Python 3"
    },
    "language_info": {
      "name": "python"
    }
  },
  "cells": [
    {
      "cell_type": "markdown",
      "metadata": {
        "id": "view-in-github",
        "colab_type": "text"
      },
      "source": [
        "<a href=\"https://colab.research.google.com/github/robertmunro25/Attempt-2/blob/dev/NOSQL_practice_Mongo_Cosmos.ipynb\" target=\"_parent\"><img src=\"https://colab.research.google.com/assets/colab-badge.svg\" alt=\"Open In Colab\"/></a>"
      ]
    },
    {
      "cell_type": "code",
      "metadata": {
        "id": "4J2wIcM1-ZdB"
      },
      "source": [
        "# PLEASE DO NOT CHANGE THIS LINE\n",
        "import pymongo\n",
        "connectionString = \"mongodb://asteroid:qeqpcXHLl1NDTOsnAjH0X8ZkAWgEVUYiusxnjGKgAsc4fKnujvSOOBTdFNYoXFLUs4BFGweeKN1fFZKukehPSA==@asteroid.mongo.cosmos.azure.com:10255/?ssl=true&retrywrites=false&replicaSet=globaldb&maxIdleTimeMS=120000&appName=@asteroid@\"\n",
        "client = pymongo.MongoClient(connectionString)"
      ],
      "execution_count": 2,
      "outputs": []
    },
    {
      "cell_type": "code",
      "metadata": {
        "id": "D1UWc_tb1vAU"
      },
      "source": [
        "mydb = client[\"monkeybar\"] # PLEASE DO NOT CHANGE THIS LINE"
      ],
      "execution_count": 3,
      "outputs": []
    },
    {
      "cell_type": "code",
      "metadata": {
        "id": "ViuCq-5D87BV"
      },
      "source": [
        "mycol = mydb[\"bananaman\"] # Change collection name 'fish' to anything else that you like!"
      ],
      "execution_count": 4,
      "outputs": []
    },
    {
      "cell_type": "code",
      "metadata": {
        "id": "s-j7opwR9HFW"
      },
      "source": [
        "mydict = {\"ism\":\"communism\", \"livinghub\":\"High Cliff\"}\n",
        "\n",
        "x = mycol.insert_one(mydict)"
      ],
      "execution_count": 5,
      "outputs": []
    },
    {
      "cell_type": "code",
      "metadata": {
        "id": "McCQQaXI9SOe"
      },
      "source": [
        "mydict = { \"ism\": \"pacifism\", \"lifespan\": 67 }\n",
        "\n",
        "x = mycol.insert_one(mydict)"
      ],
      "execution_count": 6,
      "outputs": []
    },
    {
      "cell_type": "code",
      "metadata": {
        "id": "BDOiHbc-G7lM"
      },
      "source": [
        ""
      ],
      "execution_count": 6,
      "outputs": []
    },
    {
      "cell_type": "code",
      "metadata": {
        "id": "n0EgDSQq9qIL"
      },
      "source": [
        "r2 = { \"name\": \"prawnyboi\", \"bitextra\": mydict , \"classes\":[\"eng\",\"fr\",\"ger\"]}\n",
        "\n",
        "x = mycol.insert_one(r2)"
      ],
      "execution_count": 7,
      "outputs": []
    },
    {
      "cell_type": "code",
      "metadata": {
        "colab": {
          "base_uri": "https://localhost:8080/"
        },
        "id": "Bu_SKVlg94LP",
        "outputId": "4259dc34-a9f1-4ef0-d613-30e8ff1bd99a"
      },
      "source": [
        "# MongoDB-> Document Database \n",
        "for x in mycol.find():\n",
        "  print(x)"
      ],
      "execution_count": 8,
      "outputs": [
        {
          "output_type": "stream",
          "name": "stdout",
          "text": [
            "{'_id': ObjectId('6213ada1cf675e4a95103981'), 'ism': 'communism', 'livinghub': 'High Cliff'}\n",
            "{'_id': ObjectId('6213ada3cf675e4a95103982'), 'ism': 'pacifism', 'lifespan': 67}\n",
            "{'_id': ObjectId('6213ada6cf675e4a95103983'), 'name': 'prawnyboi', 'bitextra': {'ism': 'pacifism', 'lifespan': 67, '_id': ObjectId('6213ada3cf675e4a95103982')}, 'classes': ['eng', 'fr', 'ger']}\n"
          ]
        }
      ]
    },
    {
      "cell_type": "code",
      "metadata": {
        "id": "1hWjlFs2-d7f"
      },
      "source": [
        "for x in mycol.find({\"name\":\"prawnyboi\", \"lifespan\":67}).limit(1):\n",
        "  print(x)"
      ],
      "execution_count": 10,
      "outputs": []
    },
    {
      "cell_type": "code",
      "metadata": {
        "colab": {
          "base_uri": "https://localhost:8080/"
        },
        "id": "PaT8LNoeMFRe",
        "outputId": "65d80f00-0918-449f-dd77-b1974c8c7754"
      },
      "source": [
        "myquery = { \"name\": { \"$regex\": \"i$\" } } # for example, this is a \n",
        "# regular expression that ends with letter 'p'\n",
        "\n",
        "mydoc = mycol.find(myquery)\n",
        "\n",
        "for x in mydoc:\n",
        "  print(x)"
      ],
      "execution_count": 12,
      "outputs": [
        {
          "output_type": "stream",
          "name": "stdout",
          "text": [
            "{'_id': ObjectId('6213ada6cf675e4a95103983'), 'name': 'prawnyboi', 'bitextra': {'ism': 'pacifism', 'lifespan': 67, '_id': ObjectId('6213ada3cf675e4a95103982')}, 'classes': ['eng', 'fr', 'ger']}\n"
          ]
        }
      ]
    },
    {
      "cell_type": "code",
      "metadata": {
        "id": "LY5uckz_MBAe",
        "outputId": "aeb33f0a-db53-4349-bda4-f8f4fad0f62a",
        "colab": {
          "base_uri": "https://localhost:8080/"
        }
      },
      "source": [
        "mydoct = {\"fruit\":\"banana\", \"fruitman\":\"bananaman\"}\n",
        "\n",
        "y = mycol.delete_one(mydoct)\n",
        "\n",
        "for y in mycol.find():\n",
        "  print(y)"
      ],
      "execution_count": 33,
      "outputs": [
        {
          "output_type": "stream",
          "name": "stdout",
          "text": [
            "{'_id': ObjectId('6213ada1cf675e4a95103981'), 'ism': 'communism', 'livinghub': 'High Cliff'}\n",
            "{'_id': ObjectId('6213ada3cf675e4a95103982'), 'ism': 'pacifism', 'lifespan': 67}\n",
            "{'_id': ObjectId('6213ada6cf675e4a95103983'), 'name': 'prawnyboi', 'bitextra': {'ism': 'pacifism', 'lifespan': 67, '_id': ObjectId('6213ada3cf675e4a95103982')}, 'classes': ['eng', 'fr', 'ger']}\n",
            "{'_id': ObjectId('6213b0cbcf675e4a9510398e'), 'fruit': 'banana', 'fruitman': 'bananaman'}\n"
          ]
        }
      ]
    }
  ]
}